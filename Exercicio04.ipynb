{
 "cells": [
  {
   "cell_type": "markdown",
   "metadata": {},
   "source": [
    "Alessandro Lima da Silva R.A 201522705 CCP3AN-MCA"
   ]
  },
  {
   "cell_type": "markdown",
   "metadata": {},
   "source": [
    "1 Menor de dois pares: Escreva uma função que retorne o menor de dois números dados se ambos os números forem pares, mas retorna o maior se um dos dois for ímpar. Exemplo: menor_de_dois_pares(2,4) --> 2 menor_de_dois_pares (2,5) --> 5 "
   ]
  },
  {
   "cell_type": "code",
   "execution_count": 9,
   "metadata": {},
   "outputs": [],
   "source": [
    "def retorna(num1,num2):\n",
    "    if num1%2==0 and num2%2==0:\n",
    "            if num1<num2:\n",
    "                return num1\n",
    "            else:\n",
    "                return num2\n",
    "    elif num1>2:\n",
    "        return num1\n",
    "    else:\n",
    "        return num2"
   ]
  },
  {
   "cell_type": "code",
   "execution_count": 14,
   "metadata": {},
   "outputs": [
    {
     "data": {
      "text/plain": [
       "5"
      ]
     },
     "execution_count": 14,
     "metadata": {},
     "output_type": "execute_result"
    }
   ],
   "source": [
    "retorna(2,5)"
   ]
  },
  {
   "cell_type": "markdown",
   "metadata": {},
   "source": [
    "2 Mesma letra: Escreva uma função que receba uma string com duas palavras e retorne True se ambas palavras começarem com a mesma letra. Exemplo: \n",
    " mesma_letra('Cão covarde') -> True mesma_letra('Vira Lata') -> False \n",
    " "
   ]
  },
  {
   "cell_type": "code",
   "execution_count": 9,
   "metadata": {},
   "outputs": [
    {
     "name": "stdout",
     "output_type": "stream",
     "text": [
      "dkakd sdsds\n",
      "dkakd\n",
      "sdsds\n",
      "False\n"
     ]
    }
   ],
   "source": [
    "word1, word2 = input().split(\" \", 1)\n",
    "print(word1)\n",
    "print(word2)\n",
    "print(duasPalavras(word1,word2))\n",
    "\n",
    "def duasPalavras(word1,word2):\n",
    "    if word1[0]== word2[0]:\n",
    "        return True\n",
    "    else:\n",
    "        return False\n",
    "    \n",
    "    "
   ]
  },
  {
   "cell_type": "markdown",
   "metadata": {},
   "source": [
    "3 Mestre Yoda: Dada uma sentença, a função deve retornar a sentença com as palavras na ordem reversa. Exemplo: \n",
    " mestre_yoda('Eu estou em casa') --> 'casa em estou Eu' mestre_yoda('Estamos prontos') --> 'prontos Estamos' "
   ]
  },
  {
   "cell_type": "code",
   "execution_count": 42,
   "metadata": {},
   "outputs": [
    {
     "name": "stdout",
     "output_type": "stream",
     "text": [
      "eu estou em casa\n",
      "['eu', 'estou', 'em', 'casa']\n",
      "casa\n",
      "em\n",
      "estou\n",
      "eu\n",
      "None\n"
     ]
    }
   ],
   "source": [
    "def yoda(word):\n",
    "    y= len(word)\n",
    "    for x in range(0,y):\n",
    "        print(word[(y-x)-1])\n",
    "\n",
    "word = input().split(\" \")\n",
    "print(word)\n",
    "\n",
    "print(yoda(word))\n",
    "\n",
    "\n",
    "    \n",
    "    "
   ]
  },
  {
   "cell_type": "markdown",
   "metadata": {},
   "source": [
    "4 Tem 33: Faça uma função que retorne True se, dada uma lista de inteiros, houver em alguma posição da lista um 3 do lado de outro 3. Exemplo: \n",
    " tem_33([1,3,3]) --> True tem_33([1,3,1,3]) --> False tem_33([3,1,3]) --> False "
   ]
  },
  {
   "cell_type": "code",
   "execution_count": 72,
   "metadata": {},
   "outputs": [],
   "source": [
    "def tem33(lista):\n",
    "    for x in range(1,len(lista)-1):\n",
    "        if lista[x]==3:\n",
    "            if lista[x+1]==3:\n",
    "                return True\n",
    "    else:\n",
    "        return False"
   ]
  },
  {
   "cell_type": "code",
   "execution_count": 74,
   "metadata": {},
   "outputs": [
    {
     "data": {
      "text/plain": [
       "True"
      ]
     },
     "execution_count": 74,
     "metadata": {},
     "output_type": "execute_result"
    }
   ],
   "source": [
    "lista=(1,3,1,0,3,3)\n",
    "tem33(lista)"
   ]
  },
  {
   "cell_type": "markdown",
   "metadata": {},
   "source": [
    "5 Blackjack: Faça uma função que receba 3 inteiros entre 1 e 11. Se a soma deles for menor que 21, retorne o valor da soma. Se for mair do que 21 e houver um 11, subtraia 10 da soma antes de apresentar o resultado. Se o valor da soma passar de 21, retorne ‘ESTOUROU’. Exemplo: \n",
    "\n",
    " blackjack(5,6,7) --> 18 blackjack(9,9,9) --> 'ESTOUROU' blackjack(9,9,11) --> 19 "
   ]
  },
  {
   "cell_type": "code",
   "execution_count": 86,
   "metadata": {},
   "outputs": [],
   "source": [
    "def blackjack(x,y,z):\n",
    "    if x+y+z <=21:\n",
    "        return print(x+y+z)\n",
    "    \n",
    "    else:\n",
    "        if x==11:\n",
    "            x=1\n",
    "        elif y==11:\n",
    "            y=1\n",
    "        elif z==11:\n",
    "            z=1\n",
    "        \n",
    "        if x+y+z<=21:\n",
    "            return(print(x+y+z))\n",
    "        else:\n",
    "            return(\"Estourou\")\n",
    "    \n",
    "    "
   ]
  },
  {
   "cell_type": "code",
   "execution_count": 90,
   "metadata": {},
   "outputs": [
    {
     "name": "stdout",
     "output_type": "stream",
     "text": [
      "12\n"
     ]
    }
   ],
   "source": [
    "blackjack(11,11,0)"
   ]
  },
  {
   "cell_type": "markdown",
   "metadata": {},
   "source": [
    "6 Espião: Escreva uma função que receba uma lista de inteiros e retorne True se contém um 007 em ordem, mesmo que não contínuo. Exemplo: \n",
    " espiao([1,2,4,0,0,7,5]) --> True espiao([1,0,2,4,0,5,7]) --> True espiao([1,7,2,4,0,5,0]) --> False \n",
    " \n",
    " "
   ]
  },
  {
   "cell_type": "code",
   "execution_count": 99,
   "metadata": {},
   "outputs": [],
   "source": [
    "def espiao(lista):\n",
    "    for x in range(0,len(lista)):\n",
    "        if lista[x]==0:\n",
    "            y=x+1\n",
    "            for x in range(y,len(lista)):\n",
    "                if lista[x]==0:\n",
    "                    z=y+1\n",
    "                    for x in range(z,len(lista)):\n",
    "                        if lista[x]==7:\n",
    "                            return True\n",
    "    return False\n",
    "                            \n",
    "                        \n",
    "            "
   ]
  },
  {
   "cell_type": "code",
   "execution_count": 103,
   "metadata": {},
   "outputs": [
    {
     "data": {
      "text/plain": [
       "True"
      ]
     },
     "execution_count": 103,
     "metadata": {},
     "output_type": "execute_result"
    }
   ],
   "source": [
    "lista= [1,0,2,4,0,5,7]\n",
    "espiao(lista)"
   ]
  },
  {
   "cell_type": "code",
   "execution_count": null,
   "metadata": {},
   "outputs": [],
   "source": []
  }
 ],
 "metadata": {
  "kernelspec": {
   "display_name": "Python 3",
   "language": "python",
   "name": "python3"
  },
  "language_info": {
   "codemirror_mode": {
    "name": "ipython",
    "version": 3
   },
   "file_extension": ".py",
   "mimetype": "text/x-python",
   "name": "python",
   "nbconvert_exporter": "python",
   "pygments_lexer": "ipython3",
   "version": "3.6.4"
  }
 },
 "nbformat": 4,
 "nbformat_minor": 2
}
