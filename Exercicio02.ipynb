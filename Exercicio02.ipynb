{
 "cells": [
  {
   "cell_type": "markdown",
   "metadata": {},
   "source": [
    "Alessandro Lima da Silva R.A 201522705 CCP3AN-MCA"
   ]
  },
  {
   "cell_type": "markdown",
   "metadata": {},
   "source": [
    "Listas \n",
    " \n",
    "1 Crie um programa que recebe uma lista de números e - retorne o maior elemento - retorne a soma dos elementos - retorne o número de ocorrências do primeiro elemento da lista - retorne a média dos elementos - retorne o valor mais próximo da média dos elementos - retorne a soma dos elementos com valor negativo - retorne a quantidade de vizinhos iguais \n",
    "\n"
   ]
  },
  {
   "cell_type": "code",
   "execution_count": 87,
   "metadata": {},
   "outputs": [],
   "source": [
    "def lista(lista):\n",
    "    lista.sort()\n",
    "    print(lista);\n",
    "    print(retornaMaior(lista))\n",
    "    soma = retornaSoma(lista)\n",
    "    print(soma)\n",
    "    mediav = media(soma,lista)\n",
    "    print(mediav)\n",
    "    print(ocorrencia(lista))\n",
    "    print(valorMaisProximo(mediav,lista))\n",
    "    print(somaNeg(lista))\n",
    "    print(contaNumerosIguais(lista))\n",
    "    \n",
    "def retornaMaior(lista):\n",
    "    maior = 0;\n",
    "    for x in range(0,len(lista)):\n",
    "        if maior<lista[x]:\n",
    "            maior = lista[x]\n",
    "    return maior;\n",
    "\n",
    "def retornaSoma(lista):\n",
    "    soma = 0;\n",
    "    for x in range(0,len(lista)):\n",
    "        soma = soma+lista[x];\n",
    "    return soma;\n",
    "\n",
    "def media(soma,lista):\n",
    "    mediav = 0\n",
    "    mediav = int(soma)/len(lista)\n",
    "    return int(mediav)\n",
    "\n",
    "def ocorrencia(lista):\n",
    "    valor = lista[0]\n",
    "    for x in range(0,len(lista)):\n",
    "        if valor != lista[x]:\n",
    "            return x\n",
    "\n",
    "def valorMaisProximo(mediav,lista):\n",
    "    valor = mediav\n",
    "    for x in range(0,len(lista)):\n",
    "        if mediav - lista[x]<valor|mediav!=valor:\n",
    "            valor = mediav-lista[x]\n",
    "    return valor\n",
    "            \n",
    "def somaNeg(lista):\n",
    "    somav = 0 \n",
    "    for x in range(0,len(lista)):\n",
    "        if lista[x]<0:\n",
    "            somav = somav+lista[x]\n",
    "    return somav\n",
    "\n",
    "def contaNumerosIguais(lista):\n",
    "    y= lista[0]\n",
    "    for x in range(0,len(lista)):\n",
    "        if y!=lista[x]:\n",
    "            y = lista[x]\n",
    "        else:\n",
    "            y=y+1\n",
    "    return y\n",
    "\n",
    "    \n",
    "    \n",
    "            \n",
    "        "
   ]
  },
  {
   "cell_type": "code",
   "execution_count": 88,
   "metadata": {},
   "outputs": [
    {
     "name": "stdout",
     "output_type": "stream",
     "text": [
      "[1, 1, 2, 2, 2, 3, 3]\n",
      "3\n",
      "14\n",
      "2\n",
      "2\n",
      "2\n",
      "0\n",
      "4\n"
     ]
    }
   ],
   "source": [
    "lista([1,2,3,2,1,2,3])"
   ]
  },
  {
   "cell_type": "markdown",
   "metadata": {},
   "source": [
    "2 Faça um programa que receba duas listas e retorne True se são iguais ou False caso contrario. Duas listas são iguais se possuem os mesmos valores e na mesma ordem. \n",
    " "
   ]
  },
  {
   "cell_type": "code",
   "execution_count": 95,
   "metadata": {},
   "outputs": [],
   "source": [
    "def igualaLista(lista1,lista2):\n",
    "    if len(lista1)==len(lista2):\n",
    "        for x in range(0,len(lista1)):\n",
    "            if lista1[x]!=lista2[x]:\n",
    "                return False\n",
    "        return True\n",
    "    else:\n",
    "        return False"
   ]
  },
  {
   "cell_type": "code",
   "execution_count": 98,
   "metadata": {},
   "outputs": [
    {
     "data": {
      "text/plain": [
       "False"
      ]
     },
     "execution_count": 98,
     "metadata": {},
     "output_type": "execute_result"
    }
   ],
   "source": [
    "igualaLista([1,2,3],[1,2,2])"
   ]
  },
  {
   "cell_type": "markdown",
   "metadata": {},
   "source": [
    "3 Faça um programa que receba duas listas e retorne True se têm os mesmos elementos ou False caso contrário Duas listas possuem os mesmos elementos quando são compostas pelos mesmos valores, mas não obrigatoriamente na mesma ordem. "
   ]
  },
  {
   "cell_type": "code",
   "execution_count": 99,
   "metadata": {
    "collapsed": true
   },
   "outputs": [],
   "source": [
    "def igualaLista(lista1,lista2):\n",
    "    lista1.sort()\n",
    "    lista2.sort()\n",
    "    if len(lista1)==len(lista2):\n",
    "        for x in range(0,len(lista1)):\n",
    "            if lista1[x]!=lista2[x]:\n",
    "                return False\n",
    "        return True\n",
    "    else:\n",
    "        return False"
   ]
  },
  {
   "cell_type": "code",
   "execution_count": 102,
   "metadata": {},
   "outputs": [
    {
     "data": {
      "text/plain": [
       "True"
      ]
     },
     "execution_count": 102,
     "metadata": {},
     "output_type": "execute_result"
    }
   ],
   "source": [
    "igualaLista([1,2,3],[3,2,1])"
   ]
  },
  {
   "cell_type": "markdown",
   "metadata": {},
   "source": [
    "4 Faça um programa que percorre uma lista com o seguinte formato: [['Brasil', 'Italia', [10, 9]], ['Brasil', 'Espanha', [5, 7]], ['Italia', 'Espanha', [7,8]]]. Essa lista indica o número de faltas que cada time fez em cada jogo. Na lista acima, no jogo entre Brasil e Itália, o Brasil fez 10 faltas e a Itália fez 9. O programa deve imprimir na tela: - o total de faltas do campeonato  - o time que fez mais faltas - o time que fez menos faltas "
   ]
  },
  {
   "cell_type": "code",
   "execution_count": null,
   "metadata": {},
   "outputs": [],
   "source": [
    "    \n",
    "    "
   ]
  },
  {
   "cell_type": "code",
   "execution_count": 3,
   "metadata": {},
   "outputs": [
    {
     "name": "stdout",
     "output_type": "stream",
     "text": [
      " Total de falta =  39  \n",
      " Maior quantidade de faltas =  Brasil  \n",
      " Menor quantidade de faltas =  Italia\n"
     ]
    }
   ],
   "source": [
    "time = [['Brasil', 'Italia', [10, 2]],['Brasil', 'Espanha', [5, 7]],['Italia', 'Espanha', [7,8]]]\n",
    "continuar = 's'\n",
    "\n",
    "def menos_faltas (time):\n",
    "    menor = time[0][2][0]\n",
    "    for i in range(len(time)):\n",
    "        for j in range(2):\n",
    "             if time[i][2][j]<menor:\n",
    "                 menor = time[i][2][j]\n",
    "                 time_menor = time[i][j]\n",
    "    return time_menor\n",
    "\n",
    "def mais_faltas (time):\n",
    "    time_maior = time[0][0]\n",
    "    maior = time[0][2][0]\n",
    "    for i in range(len(time)):\n",
    "        for j in range(2):\n",
    "             if time[i][2][j]>maior:\n",
    "                 maior = time[i][2][j]\n",
    "                 time_maior = time[i][j]\n",
    "    return time_maior\n",
    "\n",
    "def total_faltas (time):\n",
    "    soma = 0\n",
    "    for i in range(len(time)):\n",
    "        for j in range(2):\n",
    "            soma += time[i][2][j]\n",
    "    return soma\n",
    "\n",
    "\n",
    "\n",
    "print(' Total de falta = ',total_faltas(time),' \\n Maior quantidade de faltas = ',mais_faltas(time),' \\n Menor quantidade de faltas = ',menos_faltas(time))\n"
   ]
  },
  {
   "cell_type": "markdown",
   "metadata": {},
   "source": [
    "5 Escreva um programa que conta a quantidade de vogais em uma string e armazena tal quantidade em um dicionário, onde a chave é a vogal considerada. "
   ]
  },
  {
   "cell_type": "code",
   "execution_count": 4,
   "metadata": {},
   "outputs": [
    {
     "name": "stdout",
     "output_type": "stream",
     "text": [
      "{'a': 1, 'e': 2, 'i': 1, 'o': 2, 'u': 2}\n"
     ]
    }
   ],
   "source": [
    "dict = {'a':0,'e':0,'i':0,'o':0,'u':0}\n",
    "\n",
    "def vogal(palavra):\n",
    "    for x in range(0,len(palavra)):\n",
    "        if palavra[x].lower() == 'a':\n",
    "            dict['a'] += 1\n",
    "        \n",
    "        elif palavra[x].lower() == 'e':  \n",
    "            dict['e'] += 1  \n",
    "        elif palavra[x].lower() == 'i':\n",
    "            dict['i'] += 1  \n",
    "        elif palavra[x].lower() == 'o':      \n",
    "            dict['o'] += 1  \n",
    "        elif palavra[x].lower() == 'u':\n",
    "            dict['u'] += 1 \n",
    "    print(dict)\n",
    "\n",
    "vogal('euamoqueijo')\n",
    "\n",
    "\n"
   ]
  },
  {
   "cell_type": "markdown",
   "metadata": {},
   "source": [
    "6 Escreva um programa que lê̂ duas notas de vários alunos e armazena tais notas em um dicionário, onde a chave é o nome do aluno. A entrada de dados deve terminar quando for lida uma string vazia como nome. Escreva uma função que retorna a média do aluno, dado seu nome. "
   ]
  },
  {
   "cell_type": "code",
   "execution_count": 13,
   "metadata": {},
   "outputs": [
    {
     "name": "stdout",
     "output_type": "stream",
     "text": [
      "Digite o aluno: kauezinho\n",
      "6.5\n"
     ]
    }
   ],
   "source": [
    "def media(nome):\n",
    "    if nome in medias:\n",
    "        value = medias[nome]\n",
    "        valorm = (value[0]+ value[1])/2\n",
    "        print(valorm)\n",
    "    \n",
    "def escola(medias):\n",
    "    nome = input(\"Digite o aluno: \")\n",
    "    media(nome)\n",
    "\n",
    "\n",
    "medias = {'kaue':[10,10],'kauezinho':[7,6],'eumesmo':[10,6],}\n",
    "escola(medias)\n"
   ]
  },
  {
   "cell_type": "code",
   "execution_count": 3,
   "metadata": {},
   "outputs": [],
   "source": []
  },
  {
   "cell_type": "markdown",
   "metadata": {},
   "source": [
    "7 Uma pista de Kart permite 10 voltas para cada um de 6 corredores. Escreva um programa que leia todos os tempos em segundos e os guarde em um dicionário, onde a chave é o nome do corredor. Ao final diga de quem foi a melhor volta da prova e em que volta; e ainda a classificação final em ordem (1o o campeão). O campeão é o que tem a menor média de tempos. "
   ]
  },
  {
   "cell_type": "code",
   "execution_count": 16,
   "metadata": {},
   "outputs": [
    {
     "name": "stdout",
     "output_type": "stream",
     "text": [
      "14.0\n",
      "{'kaue': 14.0, 'kauezinho': [5, 5, 5, 5, 5], 'eumesmo': [4, 4, 4, 4, 4]}\n",
      "5.0\n",
      "{'kaue': 14.0, 'kauezinho': 5.0, 'eumesmo': [4, 4, 4, 4, 4]}\n",
      "4.0\n",
      "{'kaue': 14.0, 'kauezinho': 5.0, 'eumesmo': 4.0}\n",
      "[('eumesmo', 4.0), ('kauezinho', 5.0), ('kaue', 14.0)]\n"
     ]
    }
   ],
   "source": [
    "voltas = {'kaue':[10,10,30,10,10],'kauezinho':[5,5,5,5,5],'eumesmo':[4,4,4,4,4],}\n",
    "import operator\n",
    "\n",
    "\n",
    "def classifica(voltas):\n",
    "    for voltasx in voltas:\n",
    "        value = voltas[voltasx]\n",
    "        valorm = (value[0]+ value[1] +value[2]+ value[3]+ value[4])/5\n",
    "        print(valorm)\n",
    "        voltas[voltasx] = valorm\n",
    "        print(voltas)\n",
    "   \n",
    "    sorted_d = sorted(voltas.items(), key=operator.itemgetter(1))\n",
    "    \n",
    "    print(sorted_d)\n",
    "   \n",
    "\n",
    "classifica(voltas)\n",
    "\n",
    "    "
   ]
  },
  {
   "cell_type": "markdown",
   "metadata": {},
   "source": [
    "\n",
    "8Escreva um programa para armazenar uma agenda de telefones em um dicionário. Cada pessoa pode ter um ou mais telefones e a chave do dicionário é o nome da pessoa. Seu programa deve ter as seguintes funções: - incluirNovoNome – essa função acrescenta um novo nome na agenda, com um ou mais telefones. Ela deve receber como argumentos o nome e os telefones. - incluirTelefone – essa função acrescenta um telefone em um nome existente na agenda. Caso o nome não exista na agenda, você̂ deve perguntar se a pessoa deseja inclui-lo. Caso a resposta seja afirmativa, use a função anterior para incluir o novo nome. - excluirTelefone – essa função exclui um telefone de uma pessoa que já está na agenda. Se a pessoa tiver apenas um telefone, ela deve ser excluída da agenda. - excluirNome – essa função exclui uma pessoa da agenda. \n",
    "- consultarTelefone – essa função retorna os telefones de uma pessoa na agenda"
   ]
  },
  {
   "cell_type": "code",
   "execution_count": null,
   "metadata": {},
   "outputs": [
    {
     "name": "stdout",
     "output_type": "stream",
     "text": [
      "\n",
      "   1 - Novo\n",
      "   2 - Altera\n",
      "   3 - Apaga\n",
      "   4 - Lista\n",
      "\n",
      "   0 - Sai\n",
      "\n",
      "Escolha uma opção: 1\n",
      "Nome: kaue\n",
      "Telefone: 9899\n",
      "\n",
      "   1 - Novo\n",
      "   2 - Altera\n",
      "   3 - Apaga\n",
      "   4 - Lista\n",
      "\n",
      "   0 - Sai\n",
      "\n",
      "Escolha uma opção: 4\n",
      "\n",
      "Agenda\n",
      "\n",
      "------\n",
      "Nome: kaue Telefone: 9899\n",
      "------\n",
      "\n",
      "\n",
      "   1 - Novo\n",
      "   2 - Altera\n",
      "   3 - Apaga\n",
      "   4 - Lista\n",
      "\n",
      "   0 - Sai\n",
      "\n",
      "Escolha uma opção: 2\n",
      "Nome: kaue\n",
      "Encontrado:\n",
      "Nome: kaue Telefone: 9899\n",
      "Nome: kaue2\n",
      "Telefone: 2371287\n",
      "\n",
      "   1 - Novo\n",
      "   2 - Altera\n",
      "   3 - Apaga\n",
      "   4 - Lista\n",
      "\n",
      "   0 - Sai\n",
      "\n",
      "Escolha uma opção: 4\n",
      "\n",
      "Agenda\n",
      "\n",
      "------\n",
      "Nome: kaue2 Telefone: 2371287\n",
      "------\n",
      "\n",
      "\n",
      "   1 - Novo\n",
      "   2 - Altera\n",
      "   3 - Apaga\n",
      "   4 - Lista\n",
      "\n",
      "   0 - Sai\n",
      "\n"
     ]
    }
   ],
   "source": [
    "agenda = []\n",
    "\n",
    "def pede_nome():\n",
    "    return(input(\"Nome: \"))\n",
    "\n",
    "def pede_telefone():\n",
    "    return(input(\"Telefone: \"))\n",
    "\n",
    "def mostra_dados(nome, telefone):\n",
    "    print(\"Nome: %s Telefone: %s\" % (nome, telefone))\n",
    "\n",
    "def pede_nome_arquivo():\n",
    "    return(input(\"Nome do arquivo: \"))\n",
    "\n",
    "def pesquisa(nome):\n",
    "    mnome = nome.lower()\n",
    "    for p, e in enumerate(agenda):\n",
    "        if e[0].lower() == mnome:\n",
    "            return p\n",
    "    return None\n",
    "\n",
    "def novo():\n",
    "    global agenda\n",
    "    nome = pede_nome()\n",
    "    telefone = pede_telefone()\n",
    "    agenda.append([nome, telefone])\n",
    "\n",
    "def apaga():\n",
    "    global agenda\n",
    "    nome = pede_nome()\n",
    "    p = pesquisa(nome)\n",
    "    if p != None:\n",
    "        del agenda[p]\n",
    "    else:\n",
    "        print(\"Nome não encontrado.\")\n",
    "\n",
    "def altera():\n",
    "    p = pesquisa(pede_nome())\n",
    "    if p != None:\n",
    "        nome = agenda[p][0]\n",
    "        telefone = agenda[p][1]\n",
    "        print(\"Encontrado:\")\n",
    "        mostra_dados(nome, telefone)\n",
    "        nome = pede_nome()\n",
    "        telefone = pede_telefone()\n",
    "        agenda[p] = [nome, telefone]\n",
    "    else:\n",
    "        print(\"Nome não encontrado.\")\n",
    "\n",
    "def lista():\n",
    "    print(\"\\nAgenda\\n\\n------\")\n",
    "    for e in agenda:\n",
    "        mostra_dados(e[0], e[1])\n",
    "        print(\"------\\n\")\n",
    "\n",
    "\n",
    "\n",
    "def valida_faixa_inteiro(pergunta, inicio, fim):\n",
    "    while True:\n",
    "        try:\n",
    "            valor = int(input(pergunta))\n",
    "            if inicio <= valor <= fim:\n",
    "                return(valor)\n",
    "        except ValueError:\n",
    "            print(\"Valor inválido, favor digitar entre %d e %d\" % (inicio, fim))\n",
    "\n",
    "def menu():\n",
    "    print(\"\"\"\n",
    "   1 - Novo\n",
    "   2 - Altera\n",
    "   3 - Apaga\n",
    "   4 - Lista\n",
    "\n",
    "   0 - Sai\n",
    "\"\"\")\n",
    "    return valida_faixa_inteiro(\"Escolha uma opção: \",0,4)\n",
    "\n",
    "while True:\n",
    "    opção = menu()\n",
    "    if opção == 0:\n",
    "        break\n",
    "    elif opção == 1:\n",
    "        novo()\n",
    "    elif opção == 2:\n",
    "        altera()\n",
    "    elif opção == 3:\n",
    "        apaga()\n",
    "    elif opção == 4:\n",
    "        lista()"
   ]
  },
  {
   "cell_type": "markdown",
   "metadata": {},
   "source": [
    "9.Faça um programa que leia um arquivo texto contendo uma lista de endereços IP e gere um outro arquivo, contendo um relatório dos endereços IP válidos e inválidos. O arquivo de entrada possui o seguinte formato: "
   ]
  },
  {
   "cell_type": "code",
   "execution_count": 1,
   "metadata": {},
   "outputs": [
    {
     "name": "stdout",
     "output_type": "stream",
     "text": [
      "[Endereços válidos:]\n",
      "\n",
      "8.35.67.74\n",
      "1.1.0.99\n",
      "127.0.0.1\n",
      "127.0.0.2\n",
      "9.8.234.5\n",
      "127.0.1.1\n",
      "192.168.1.1\n",
      "200.135.80.9\n",
      "1.2.3.4\n",
      "[Endereços inválidos:]\n",
      "\n",
      "85.345.1.2\n",
      "257.32.4.5\n",
      "192.168.0.256\n",
      "0.168.1.36\n",
      "192.0.0.256\n",
      "0.25.33.19\n"
     ]
    }
   ],
   "source": [
    "import re\n",
    "def regex(pattern, string):\n",
    "\tcapt = re.match(pattern, string)\n",
    "\tif bool(capt):\n",
    "\t\treturn capt.group()\n",
    "\treturn False\n",
    "\n",
    "ip_v = ''\n",
    "ip_i = ''\n",
    "list = {'0.25.33.19', '127.0.1.1','127.0.0.2','127.0.0.1','192.0.0.256','0.168.1.36','1.1.0.99','200.135.80.9','192.168.1.1','8.35.67.74','257.32.4.5','85.345.1.2','1.2.3.4','9.8.234.5','192.168.0.256'}\n",
    "for ip in list:\n",
    "\tif ip == '0.0.0.0':\n",
    "\t\tip_v = ip_v + '\\n' + ip\n",
    "\telif regex('^(([1-9]\\.|[1-9][0-9]\\.|1[0-9][0-9]\\.|2[0-4][0-9]\\.|25[0-5]\\.)([0-9]\\.|[1-9][0-9]\\.|1[0-9][0-9]\\.|2[0-4][0-9]\\.|25[0-5]\\.)([0-9]\\.|[1-9][0-9]\\.|1[0-9][0-9]\\.|2[0-4][0-9]\\.|25[0-5]\\.)([0-9]\\.|[1-9][0-9]\\.|1[0-9][0-9]\\.|2[0-4][0-9]\\.|25[0-5]\\.))$', ip + '.'):\n",
    "\t\tip_v = ip_v + '\\n' + ip\n",
    "\telse:\n",
    "\t\tip_i = ip_i + '\\n' + ip\n",
    "\n",
    "print('[Endereços válidos:]')\n",
    "print(ip_v)\n",
    "print('[Endereços inválidos:]')\n",
    "print(ip_i)"
   ]
  },
  {
   "cell_type": "markdown",
   "metadata": {},
   "source": [
    "10.A ACME Inc., uma empresa de 500 funcionários, está tendo problemas de espaço em disco no seu servidor de arquivos. Para tentar resolver este problema, o Administrador de Rede precisa saber qual o espaço ocupado pelos usuários, e identificar os usuários com maior espaço ocupado. Através de um programa, baixado da Internet, ele conseguiu gerar o seguinte arquivo, chamado \"usuarios.txt\": \n",
    " "
   ]
  },
  {
   "cell_type": "code",
   "execution_count": 14,
   "metadata": {},
   "outputs": [
    {
     "name": "stdout",
     "output_type": "stream",
     "text": [
      "ACME Inc.               Uso do espaço em disco pelos usuários.\n",
      "--------------------------------------------------------------\n",
      "Nr.\tUsuário        \tEspaço utilizado\t% do uso\n",
      "\n",
      "1\talexandre      \t434.99          MB\t16.85%\n",
      "\n",
      "\n",
      "Espaço Total Ocupado: 2581.58 MB\n",
      "\n",
      "Espaço médio Ocupado: 0.33 MB2\tanderson       \t1187.99         MB\t46.02%\n",
      "\n",
      "\n",
      "Espaço Total Ocupado: 2581.58 MB\n",
      "\n",
      "Espaço médio Ocupado: 0.33 MB3\tantonio        \t117.74          MB\t4.56%\n",
      "\n",
      "\n",
      "Espaço Total Ocupado: 2581.58 MB\n",
      "\n",
      "Espaço médio Ocupado: 0.33 MB4\tcarlos         \t87.03           MB\t3.37%\n",
      "\n",
      "\n",
      "Espaço Total Ocupado: 2581.58 MB\n",
      "\n",
      "Espaço médio Ocupado: 0.33 MB5\tcesar          \t0.94            MB\t0.04%\n",
      "\n",
      "\n",
      "Espaço Total Ocupado: 2581.58 MB\n",
      "\n",
      "Espaço médio Ocupado: 0.33 MB6\trosemary       \t752.88          MB\t29.16%\n",
      "\n",
      "\n",
      "Espaço Total Ocupado: 2581.58 MB\n",
      "\n",
      "Espaço médio Ocupado: 0.33 MB\n"
     ]
    }
   ],
   "source": [
    "def toMB(tamanhoEmBytes):\n",
    "    tamanhoEmBytes = float(tamanhoEmBytes)\n",
    "    return (float(tamanhoEmBytes/(1024*1024)))\n",
    "   \n",
    "def percentualPorUsuario(lista, total):\n",
    "    percentual = (lista[3]/total)*100\n",
    "   #percentual = \"{0:.2f}\".format(percentual)\n",
    "    lista.insert((len(cadaUsuario)),percentual)\n",
    "\n",
    "def espacoMedioOcupado(lista, total):\n",
    "    media = 0\n",
    "    total=2\n",
    "    elementos = len(lista)\n",
    "    media = (total)/(elementos+1)\n",
    "   #media = \"{0:.2f}\".format(media)\n",
    "    return media\n",
    "\n",
    "#MAIN\n",
    "usuarios = []\n",
    "posicao = 1\n",
    "total = media = 0\n",
    "cadaUsuario = 0\n",
    "with open (\"usuarios.txt\",\"r\") as arquivo:\n",
    "    valor = 0\n",
    "    for linha in arquivo:\n",
    "        usuarios.append(linha.split()) \n",
    "\n",
    "    for cadaUsuario in usuarios:\n",
    "        cadaUsuario.insert(0,posicao)\n",
    "        valor = toMB(float(cadaUsuario[2]))\n",
    "        total += valor\n",
    "        cadaUsuario.insert((len(cadaUsuario)),valor)\n",
    "        posicao+=1\n",
    "\n",
    "    for cadaUsuario in usuarios:\n",
    "        percentualPorUsuario(cadaUsuario, total)\n",
    "\n",
    "media = espacoMedioOcupado(cadaUsuario,total)\n",
    "with open (\"relatorio.txt\",\"w\") as arquivo:\n",
    "    arquivo.write(\"ACME Inc.               Uso do espaço em disco pelos usuários.\\n\")\n",
    "    arquivo.write(\"--------------------------------------------------------------\\n\")\n",
    "    arquivo.write(\"Nr.\\tUsuário        \\tEspaço utilizado\\t% do uso\\n\\n\")\n",
    "\n",
    "    for cadaUsuario in usuarios:\n",
    "        percentagem=\"{0:.2f}\".format(round(cadaUsuario[3],2))\n",
    "        arquivo.write(str(cadaUsuario[0])+'\\t'+\"{:<15}\".format(cadaUsuario[1])+'\\t'+\"{:<16}\".format(percentagem)+'MB'+'\\t'+\"{0:.2f}\".format(cadaUsuario[4])+'%'+'\\n')\n",
    "\n",
    "        arquivo.write('\\n\\nEspaço Total Ocupado: ' + \"{0:.2f}\".format(total) + ' MB')\n",
    "        arquivo.write('\\n\\nEspaço médio Ocupado: ' + \"{0:.2f}\".format(media) + ' MB')\n",
    "    arquivo.close()\n",
    "\n",
    "with open (\"relatorio.txt\",\"r\") as arquivo:\n",
    "    print(arquivo.read())"
   ]
  },
  {
   "cell_type": "code",
   "execution_count": null,
   "metadata": {},
   "outputs": [],
   "source": []
  }
 ],
 "metadata": {
  "kernelspec": {
   "display_name": "Python 3",
   "language": "python",
   "name": "python3"
  },
  "language_info": {
   "codemirror_mode": {
    "name": "ipython",
    "version": 3
   },
   "file_extension": ".py",
   "mimetype": "text/x-python",
   "name": "python",
   "nbconvert_exporter": "python",
   "pygments_lexer": "ipython3",
   "version": "3.6.4"
  }
 },
 "nbformat": 4,
 "nbformat_minor": 2
}
